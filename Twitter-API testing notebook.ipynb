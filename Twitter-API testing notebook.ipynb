{
 "cells": [
  {
   "cell_type": "code",
   "execution_count": 2,
   "metadata": {},
   "outputs": [],
   "source": [
    "import os\n",
    "import sys\n",
    "from tweepy import API\n",
    "from tweepy import OAuthHandler\n",
    "\n",
    "def get_twitter_auth():\n",
    "    #set up twitter authentication#\n",
    "    #Return: tweepy.OAuthHandler object\n",
    "    try:\n",
    "        consumer_key = os.getenv('TWITTER_CONSUMER_KEY')\n",
    "        consumer_secret = os.getenv('TWITTER_CONSUMER_SECRET')\n",
    "        access_token = os.getenv('TWITTER_ACCESS_KEY')\n",
    "        access_secret= os.getenv('TWITTER_ACCESS_SECRET')\n",
    "    except KeyError:\n",
    "        sys.stderr.write(\"TWITTER_* environment variables not set\\n\")\n",
    "        sys.exit(1)\n",
    "    auth = OAuthHandler(consumer_key, consumer_secret)\n",
    "    auth.set_access_token(access_token, access_secret)\n",
    "    return auth\n",
    "    \n",
    "def get_twitter_client():\n",
    "    #Setup twitter API client.\n",
    "    # Return tweepy.API object\n",
    "    auth = get_twitter_auth()\n",
    "    client = API(auth)\n",
    "    return client"
   ]
  },
  {
   "cell_type": "code",
   "execution_count": 3,
   "metadata": {},
   "outputs": [],
   "source": [
    "auth = get_twitter_auth()\n",
    "api = get_twitter_client()"
   ]
  },
  {
   "cell_type": "code",
   "execution_count": 4,
   "metadata": {},
   "outputs": [
    {
     "name": "stdout",
     "output_type": "stream",
     "text": [
      "RT @EricTopol: Never has a creature with 30,000 letters done so much damage.\n",
      "Or has science and medical research responded with such speed…\n",
      "RT @erikbryn: #Coronavirus #COVID\n",
      "RT @ApeTribeGames: #Disjunction will also be launching on #NintendoSwitch on Jan 28th and it has been a great feeling to take our work for…\n",
      "RT @AcademicChatter: Me on the weekend: \"I can't tell if I'm relaxing or not\"\n",
      "Maybe it’s easy to be aggressive when you have the best QB in the NFL and when fortune keeps smiling on you. It’s a… https://t.co/oi94uPzmql\n",
      "In 5 days. https://t.co/0WomtCWvLv\n",
      "Woooo! So excited to see you take on this challenge @AnnMCairns https://t.co/VBlBcZTTN0\n",
      "Interesting math https://t.co/0vkKbY1Y9h\n",
      "LinkedIn always full of shit https://t.co/tNj4jmkO1w\n",
      "As an aside, the vaccine appears to take a bit longer to take effect IRL than in trials. But that's not a surprise,… https://t.co/eaBLcjwUtA\n",
      "While Facebook has made efforts to curb the spread of misinformation, it hasn’t been enough to end the battle for h… https://t.co/NhucTvzBG3\n",
      "RT @karen_ec_levy: I loved thinking with the brilliant @KylaChasalow about what representativeness means in stats, politics, and ML! #facct…\n",
      "There's a little too much pessimism out there right now. The new variants are a challenge but we have some very goo… https://t.co/iWztDa2qSU\n",
      "Breaking Babe Ruth’s all-time home run mark was just the crowning achievement of Hank Aaron’s career, which spanned… https://t.co/3YRd7AqUuG\n",
      "Many thanks to the folks from Microsoft and to @HamelHusain for helping make #nbdev and #fastcore cross-platform! https://t.co/PUsrT6OnOI\n",
      "Without knowing either exact time, what’s the probability that you will still be ahead after the second run and ear… https://t.co/EMLLT4GZse\n",
      "Here is our guide to the good, the bad and the must-see for each matchup in the weekend’s NFL Conference Championsh… https://t.co/juJKEoQqLl\n",
      "When Google's new translate feature is a game-changer.\n",
      "\n",
      "(credit: https://t.co/azjnCSUynm) https://t.co/zOITxXfPIv\n",
      "Biden’s Democratic Party will be the most demographically diverse group ever to run Washington — and perhaps the mo… https://t.co/LxoYjF2Qza\n",
      "I’m not saying that this means it’s necessarily a bad idea, but it dates to at least 1970.\n",
      "\n",
      "https://t.co/MWZDndE9AF https://t.co/xLc1KCOz3w\n"
     ]
    }
   ],
   "source": [
    "public_tweets = api.home_timeline()\n",
    "for tweet in public_tweets:\n",
    "    print(tweet.text)"
   ]
  },
  {
   "cell_type": "code",
   "execution_count": 13,
   "metadata": {
    "scrolled": true
   },
   "outputs": [
    {
     "data": {
      "text/plain": [
       "{'TERM_PROGRAM': 'vscode',\n",
       " 'TERM': 'xterm-color',\n",
       " 'SHELL': '/bin/bash',\n",
       " 'CLICOLOR': '1',\n",
       " 'TMPDIR': '/var/folders/lz/b67pvx7130g931mhj2k3ht_40000gn/T/',\n",
       " 'TERM_PROGRAM_VERSION': '1.50.1',\n",
       " 'ORIGINAL_XDG_CURRENT_DESKTOP': 'undefined',\n",
       " 'USER': 'matthew',\n",
       " 'SSH_AUTH_SOCK': '/private/tmp/com.apple.launchd.uWnULzg4hF/Listeners',\n",
       " '__CF_USER_TEXT_ENCODING': '0x1F5:0x0:0x0',\n",
       " 'PATH': '/Library/Frameworks/Python.framework/Versions/3.6/bin:/usr/local/bin:/usr/bin:/bin:/usr/sbin:/sbin:/Library/TeX/texbin:/usr/local/go/bin:/Library/Frameworks/Python.framework/Versions/3.6/bin',\n",
       " 'PWD': '/Users/matthew/Documents/Pulse/PulseTwitterPipeline',\n",
       " 'LANG': 'en_US.UTF-8',\n",
       " 'XPC_FLAGS': '0x0',\n",
       " 'XPC_SERVICE_NAME': '0',\n",
       " 'SHLVL': '2',\n",
       " 'HOME': '/Users/matthew',\n",
       " 'VSCODE_GIT_ASKPASS_MAIN': '/Applications/Visual Studio Code.app/Contents/Resources/app/extensions/git/dist/askpass-main.js',\n",
       " 'PYTHONPATH': '://slim:/Users/matthew/Documents/Pulse/PulseTwitterPipeline/slim',\n",
       " 'LOGNAME': 'matthew',\n",
       " 'VSCODE_GIT_IPC_HANDLE': '/var/folders/lz/b67pvx7130g931mhj2k3ht_40000gn/T/vscode-git-5d891cf949.sock',\n",
       " 'VSCODE_GIT_ASKPASS_NODE': '/Applications/Visual Studio Code.app/Contents/Frameworks/Code Helper (Renderer).app/Contents/MacOS/Code Helper (Renderer)',\n",
       " 'GIT_ASKPASS': '/Applications/Visual Studio Code.app/Contents/Resources/app/extensions/git/dist/askpass.sh',\n",
       " 'COLORTERM': 'truecolor',\n",
       " '_': '/Library/Frameworks/Python.framework/Versions/3.6/bin/jupyter-notebook',\n",
       " '__PYVENV_LAUNCHER__': '/Library/Frameworks/Python.framework/Versions/3.6/bin/python3',\n",
       " 'JPY_PARENT_PID': '41060',\n",
       " 'PAGER': 'cat',\n",
       " 'GIT_PAGER': 'cat',\n",
       " 'MPLBACKEND': 'module://ipykernel.pylab.backend_inline'}"
      ]
     },
     "execution_count": 13,
     "metadata": {},
     "output_type": "execute_result"
    }
   ],
   "source": []
  },
  {
   "cell_type": "code",
   "execution_count": null,
   "metadata": {},
   "outputs": [],
   "source": []
  }
 ],
 "metadata": {
  "kernelspec": {
   "display_name": "Python 3",
   "language": "python",
   "name": "python3"
  },
  "language_info": {
   "codemirror_mode": {
    "name": "ipython",
    "version": 3
   },
   "file_extension": ".py",
   "mimetype": "text/x-python",
   "name": "python",
   "nbconvert_exporter": "python",
   "pygments_lexer": "ipython3",
   "version": "3.7.2"
  }
 },
 "nbformat": 4,
 "nbformat_minor": 2
}
